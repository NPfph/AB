{
 "cells": [
  {
   "cell_type": "markdown",
   "id": "d4641469",
   "metadata": {},
   "source": [
    "### Mobile Games A/B Testing - Cookie Cats\n",
    "\n",
    "Когда игрок устанавливал игру, ему или ей случайным образом назначались контрольные группы gate_30 или gate_40.\n",
    "\n",
    "У нас есть данные о 90 189 игроках, которые установили игру во время проведения AB-теста. \n",
    "Переменные: \n",
    " - userid: уникальный номер, идентифицирующий каждого игрока. \n",
    " - version: попал ли игрок в контрольную группу (gate_30 - ворота 30 уровня) или группу с перенесенными воротами (gate_40 - ворота 40 уровня)\n",
    " - sum_gamerounds: количество игровых раундов, сыгранных игроком в течение первых 14 дней после установки\n",
    " - retention_1: Игрок вернулся и поиграл через 1 день после установки? \n",
    " - retention_7: Игрок вернулся и поиграл через 7 дней после установки?\n",
    " \n",
    "Наша цель - изучить, что происходит, когда происходит перемещение с уровня 30 на уровень 40, используя результаты A/B-теста Cookie Cats"
   ]
  },
  {
   "cell_type": "markdown",
   "id": "43330e90",
   "metadata": {},
   "source": [
    "### Загрузка и изучение данных датасета"
   ]
  },
  {
   "cell_type": "code",
   "execution_count": 2,
   "id": "b5a0f49a",
   "metadata": {},
   "outputs": [],
   "source": [
    "# Импортируем библиотеки\n",
    "import pandas as pd\n",
    "import matplotlib.pyplot as plt\n",
    "\n",
    "import statistics\n",
    "from scipy import stats\n",
    "\n",
    "import numpy as np\n",
    "\n",
    "import seaborn as sns\n",
    "%matplotlib inline\n",
    "plt.style.use('seaborn')\n",
    "\n",
    "from matplotlib.ticker import FuncFormatter"
   ]
  },
  {
   "cell_type": "code",
   "execution_count": 3,
   "id": "cf9f2e33",
   "metadata": {},
   "outputs": [],
   "source": [
    "# Загружаем файл с данными\n",
    "df = pd.read_csv(\"cookie_cats.csv\")"
   ]
  },
  {
   "cell_type": "code",
   "execution_count": 4,
   "id": "65f79874",
   "metadata": {},
   "outputs": [
    {
     "name": "stdout",
     "output_type": "stream",
     "text": [
      "---------- INFO ---------- \n",
      "\n",
      "<class 'pandas.core.frame.DataFrame'>\n",
      "RangeIndex: 90189 entries, 0 to 90188\n",
      "Data columns (total 5 columns):\n",
      " #   Column          Non-Null Count  Dtype \n",
      "---  ------          --------------  ----- \n",
      " 0   userid          90189 non-null  int64 \n",
      " 1   version         90189 non-null  object\n",
      " 2   sum_gamerounds  90189 non-null  int64 \n",
      " 3   retention_1     90189 non-null  bool  \n",
      " 4   retention_7     90189 non-null  bool  \n",
      "dtypes: bool(2), int64(2), object(1)\n",
      "memory usage: 2.2+ MB\n",
      "None \n",
      "\n",
      "---------- SHAPE ---------- \n",
      "\n",
      "(90189, 5) \n",
      "\n",
      "---------- DATA TYPES ---------- \n",
      "\n",
      "userid             int64\n",
      "version           object\n",
      "sum_gamerounds     int64\n",
      "retention_1         bool\n",
      "retention_7         bool\n",
      "dtype: object \n",
      "\n",
      "---------- DATA HEAD ---------- \n",
      "\n",
      "   userid  version  sum_gamerounds  retention_1  retention_7\n",
      "0     116  gate_30               3        False        False\n",
      "1     337  gate_30              38         True        False\n",
      "2     377  gate_40             165         True        False\n",
      "3     483  gate_40               1        False        False\n",
      "4     488  gate_40             179         True         True \n",
      "\n",
      "---------- DATA TAIL ---------- \n",
      "\n",
      "        userid  version  sum_gamerounds  retention_1  retention_7\n",
      "90184  9999441  gate_40              97         True        False\n",
      "90185  9999479  gate_40              30        False        False\n",
      "90186  9999710  gate_30              28         True        False\n",
      "90187  9999768  gate_40              51         True        False\n",
      "90188  9999861  gate_40              16        False        False \n",
      "\n",
      "---------- NULL VALUES ---------- \n",
      "\n",
      "userid            0\n",
      "version           0\n",
      "sum_gamerounds    0\n",
      "retention_1       0\n",
      "retention_7       0\n",
      "dtype: int64 \n",
      "\n",
      "---------- STATISTICS ---------- \n",
      "\n",
      "                  count          mean           std    min        25%  \\\n",
      "userid          90189.0  4.998412e+06  2.883286e+06  116.0  2512230.0   \n",
      "sum_gamerounds  90189.0  5.187246e+01  1.950509e+02    0.0        5.0   \n",
      "\n",
      "                      50%        75%        max  \n",
      "userid          4995815.0  7496452.0  9999861.0  \n",
      "sum_gamerounds       16.0       51.0    49854.0  \n"
     ]
    }
   ],
   "source": [
    "# Изучаем основную информацию о наборе данных\n",
    "\n",
    "def df_info(df, head=5):\n",
    "    print(\"---------- INFO ----------\", \"\\n\")\n",
    "    print(df.info(), \"\\n\")\n",
    "    print(\"---------- SHAPE ----------\", \"\\n\")\n",
    "    print(df.shape, \"\\n\")\n",
    "    print(\"---------- DATA TYPES ----------\", \"\\n\")\n",
    "    print(df.dtypes, \"\\n\")\n",
    "    print(\"---------- DATA HEAD ----------\", \"\\n\")\n",
    "    print(df.head(head), \"\\n\")\n",
    "    print(\"---------- DATA TAIL ----------\", \"\\n\")\n",
    "    print(df.tail(head), \"\\n\")\n",
    "    print(\"---------- NULL VALUES ----------\", \"\\n\")\n",
    "    print(df.isnull().sum(), \"\\n\")\n",
    "    print(\"---------- STATISTICS ----------\", \"\\n\")\n",
    "    print(df.describe().T)\n",
    "\n",
    "df_info(df)"
   ]
  },
  {
   "cell_type": "code",
   "execution_count": 5,
   "id": "445dfce2",
   "metadata": {},
   "outputs": [
    {
     "data": {
      "text/html": [
       "<div>\n",
       "<style scoped>\n",
       "    .dataframe tbody tr th:only-of-type {\n",
       "        vertical-align: middle;\n",
       "    }\n",
       "\n",
       "    .dataframe tbody tr th {\n",
       "        vertical-align: top;\n",
       "    }\n",
       "\n",
       "    .dataframe thead th {\n",
       "        text-align: right;\n",
       "    }\n",
       "</style>\n",
       "<table border=\"1\" class=\"dataframe\">\n",
       "  <thead>\n",
       "    <tr style=\"text-align: right;\">\n",
       "      <th></th>\n",
       "      <th>userid</th>\n",
       "    </tr>\n",
       "    <tr>\n",
       "      <th>version</th>\n",
       "      <th></th>\n",
       "    </tr>\n",
       "  </thead>\n",
       "  <tbody>\n",
       "    <tr>\n",
       "      <th>gate_30</th>\n",
       "      <td>44700</td>\n",
       "    </tr>\n",
       "    <tr>\n",
       "      <th>gate_40</th>\n",
       "      <td>45489</td>\n",
       "    </tr>\n",
       "  </tbody>\n",
       "</table>\n",
       "</div>"
      ],
      "text/plain": [
       "         userid\n",
       "version        \n",
       "gate_30   44700\n",
       "gate_40   45489"
      ]
     },
     "execution_count": 5,
     "metadata": {},
     "output_type": "execute_result"
    }
   ],
   "source": [
    "df.groupby(\"version\")[[\"userid\"]].nunique()"
   ]
  },
  {
   "cell_type": "code",
   "execution_count": 6,
   "id": "2725d729",
   "metadata": {},
   "outputs": [
    {
     "data": {
      "text/html": [
       "<div>\n",
       "<style scoped>\n",
       "    .dataframe tbody tr th:only-of-type {\n",
       "        vertical-align: middle;\n",
       "    }\n",
       "\n",
       "    .dataframe tbody tr th {\n",
       "        vertical-align: top;\n",
       "    }\n",
       "\n",
       "    .dataframe thead th {\n",
       "        text-align: right;\n",
       "    }\n",
       "</style>\n",
       "<table border=\"1\" class=\"dataframe\">\n",
       "  <thead>\n",
       "    <tr style=\"text-align: right;\">\n",
       "      <th></th>\n",
       "      <th>sum_gamerounds</th>\n",
       "    </tr>\n",
       "    <tr>\n",
       "      <th>version</th>\n",
       "      <th></th>\n",
       "    </tr>\n",
       "  </thead>\n",
       "  <tbody>\n",
       "    <tr>\n",
       "      <th>gate_30</th>\n",
       "      <td>779</td>\n",
       "    </tr>\n",
       "    <tr>\n",
       "      <th>gate_40</th>\n",
       "      <td>792</td>\n",
       "    </tr>\n",
       "  </tbody>\n",
       "</table>\n",
       "</div>"
      ],
      "text/plain": [
       "         sum_gamerounds\n",
       "version                \n",
       "gate_30             779\n",
       "gate_40             792"
      ]
     },
     "execution_count": 6,
     "metadata": {},
     "output_type": "execute_result"
    }
   ],
   "source": [
    "df.groupby(\"version\")[[\"sum_gamerounds\"]].nunique()"
   ]
  },
  {
   "cell_type": "markdown",
   "id": "0fdab509",
   "metadata": {},
   "source": [
    "Количество игровых раундов незначительно больше для «gate30»"
   ]
  },
  {
   "cell_type": "markdown",
   "id": "ba1a7ce5",
   "metadata": {},
   "source": [
    "Проверяем данные по количеству сыгранных раундов на наличие вбросов:"
   ]
  },
  {
   "cell_type": "code",
   "execution_count": 8,
   "id": "c5a6592b",
   "metadata": {},
   "outputs": [
    {
     "data": {
      "text/html": [
       "<div>\n",
       "<style scoped>\n",
       "    .dataframe tbody tr th:only-of-type {\n",
       "        vertical-align: middle;\n",
       "    }\n",
       "\n",
       "    .dataframe tbody tr th {\n",
       "        vertical-align: top;\n",
       "    }\n",
       "\n",
       "    .dataframe thead th {\n",
       "        text-align: right;\n",
       "    }\n",
       "</style>\n",
       "<table border=\"1\" class=\"dataframe\">\n",
       "  <thead>\n",
       "    <tr style=\"text-align: right;\">\n",
       "      <th></th>\n",
       "      <th>userid</th>\n",
       "      <th>version</th>\n",
       "      <th>sum_gamerounds</th>\n",
       "      <th>retention_1</th>\n",
       "      <th>retention_7</th>\n",
       "    </tr>\n",
       "  </thead>\n",
       "  <tbody>\n",
       "    <tr>\n",
       "      <th>57702</th>\n",
       "      <td>6390605</td>\n",
       "      <td>gate_30</td>\n",
       "      <td>49854</td>\n",
       "      <td>False</td>\n",
       "      <td>True</td>\n",
       "    </tr>\n",
       "    <tr>\n",
       "      <th>7912</th>\n",
       "      <td>871500</td>\n",
       "      <td>gate_30</td>\n",
       "      <td>2961</td>\n",
       "      <td>True</td>\n",
       "      <td>True</td>\n",
       "    </tr>\n",
       "    <tr>\n",
       "      <th>29417</th>\n",
       "      <td>3271615</td>\n",
       "      <td>gate_40</td>\n",
       "      <td>2640</td>\n",
       "      <td>True</td>\n",
       "      <td>False</td>\n",
       "    </tr>\n",
       "    <tr>\n",
       "      <th>43671</th>\n",
       "      <td>4832608</td>\n",
       "      <td>gate_30</td>\n",
       "      <td>2438</td>\n",
       "      <td>True</td>\n",
       "      <td>True</td>\n",
       "    </tr>\n",
       "    <tr>\n",
       "      <th>48188</th>\n",
       "      <td>5346171</td>\n",
       "      <td>gate_40</td>\n",
       "      <td>2294</td>\n",
       "      <td>True</td>\n",
       "      <td>True</td>\n",
       "    </tr>\n",
       "    <tr>\n",
       "      <th>46344</th>\n",
       "      <td>5133952</td>\n",
       "      <td>gate_30</td>\n",
       "      <td>2251</td>\n",
       "      <td>True</td>\n",
       "      <td>True</td>\n",
       "    </tr>\n",
       "    <tr>\n",
       "      <th>87007</th>\n",
       "      <td>9640085</td>\n",
       "      <td>gate_30</td>\n",
       "      <td>2156</td>\n",
       "      <td>True</td>\n",
       "      <td>True</td>\n",
       "    </tr>\n",
       "    <tr>\n",
       "      <th>36933</th>\n",
       "      <td>4090246</td>\n",
       "      <td>gate_40</td>\n",
       "      <td>2124</td>\n",
       "      <td>True</td>\n",
       "      <td>True</td>\n",
       "    </tr>\n",
       "    <tr>\n",
       "      <th>88328</th>\n",
       "      <td>9791599</td>\n",
       "      <td>gate_40</td>\n",
       "      <td>2063</td>\n",
       "      <td>True</td>\n",
       "      <td>True</td>\n",
       "    </tr>\n",
       "    <tr>\n",
       "      <th>6536</th>\n",
       "      <td>725080</td>\n",
       "      <td>gate_40</td>\n",
       "      <td>2015</td>\n",
       "      <td>True</td>\n",
       "      <td>True</td>\n",
       "    </tr>\n",
       "  </tbody>\n",
       "</table>\n",
       "</div>"
      ],
      "text/plain": [
       "        userid  version  sum_gamerounds  retention_1  retention_7\n",
       "57702  6390605  gate_30           49854        False         True\n",
       "7912    871500  gate_30            2961         True         True\n",
       "29417  3271615  gate_40            2640         True        False\n",
       "43671  4832608  gate_30            2438         True         True\n",
       "48188  5346171  gate_40            2294         True         True\n",
       "46344  5133952  gate_30            2251         True         True\n",
       "87007  9640085  gate_30            2156         True         True\n",
       "36933  4090246  gate_40            2124         True         True\n",
       "88328  9791599  gate_40            2063         True         True\n",
       "6536    725080  gate_40            2015         True         True"
      ]
     },
     "execution_count": 8,
     "metadata": {},
     "output_type": "execute_result"
    }
   ],
   "source": [
    "df.nlargest(10, ['sum_gamerounds'])"
   ]
  },
  {
   "cell_type": "markdown",
   "id": "a6ec1cba",
   "metadata": {},
   "source": [
    "Убираем вброс из данных - маловероятно, что одним игроком было сыграно 49854 раундов."
   ]
  },
  {
   "cell_type": "code",
   "execution_count": 9,
   "id": "71e19e1d",
   "metadata": {},
   "outputs": [],
   "source": [
    "df = df[df.sum_gamerounds < 3000]"
   ]
  },
  {
   "cell_type": "markdown",
   "id": "a9760906",
   "metadata": {},
   "source": [
    "Проверяем:"
   ]
  },
  {
   "cell_type": "code",
   "execution_count": 11,
   "id": "9eb6dab6",
   "metadata": {},
   "outputs": [
    {
     "data": {
      "text/html": [
       "<div>\n",
       "<style scoped>\n",
       "    .dataframe tbody tr th:only-of-type {\n",
       "        vertical-align: middle;\n",
       "    }\n",
       "\n",
       "    .dataframe tbody tr th {\n",
       "        vertical-align: top;\n",
       "    }\n",
       "\n",
       "    .dataframe thead th {\n",
       "        text-align: right;\n",
       "    }\n",
       "</style>\n",
       "<table border=\"1\" class=\"dataframe\">\n",
       "  <thead>\n",
       "    <tr style=\"text-align: right;\">\n",
       "      <th></th>\n",
       "      <th>userid</th>\n",
       "      <th>version</th>\n",
       "      <th>sum_gamerounds</th>\n",
       "      <th>retention_1</th>\n",
       "      <th>retention_7</th>\n",
       "    </tr>\n",
       "  </thead>\n",
       "  <tbody>\n",
       "    <tr>\n",
       "      <th>7912</th>\n",
       "      <td>871500</td>\n",
       "      <td>gate_30</td>\n",
       "      <td>2961</td>\n",
       "      <td>True</td>\n",
       "      <td>True</td>\n",
       "    </tr>\n",
       "    <tr>\n",
       "      <th>29417</th>\n",
       "      <td>3271615</td>\n",
       "      <td>gate_40</td>\n",
       "      <td>2640</td>\n",
       "      <td>True</td>\n",
       "      <td>False</td>\n",
       "    </tr>\n",
       "    <tr>\n",
       "      <th>43671</th>\n",
       "      <td>4832608</td>\n",
       "      <td>gate_30</td>\n",
       "      <td>2438</td>\n",
       "      <td>True</td>\n",
       "      <td>True</td>\n",
       "    </tr>\n",
       "    <tr>\n",
       "      <th>48188</th>\n",
       "      <td>5346171</td>\n",
       "      <td>gate_40</td>\n",
       "      <td>2294</td>\n",
       "      <td>True</td>\n",
       "      <td>True</td>\n",
       "    </tr>\n",
       "    <tr>\n",
       "      <th>46344</th>\n",
       "      <td>5133952</td>\n",
       "      <td>gate_30</td>\n",
       "      <td>2251</td>\n",
       "      <td>True</td>\n",
       "      <td>True</td>\n",
       "    </tr>\n",
       "    <tr>\n",
       "      <th>87007</th>\n",
       "      <td>9640085</td>\n",
       "      <td>gate_30</td>\n",
       "      <td>2156</td>\n",
       "      <td>True</td>\n",
       "      <td>True</td>\n",
       "    </tr>\n",
       "    <tr>\n",
       "      <th>36933</th>\n",
       "      <td>4090246</td>\n",
       "      <td>gate_40</td>\n",
       "      <td>2124</td>\n",
       "      <td>True</td>\n",
       "      <td>True</td>\n",
       "    </tr>\n",
       "    <tr>\n",
       "      <th>88328</th>\n",
       "      <td>9791599</td>\n",
       "      <td>gate_40</td>\n",
       "      <td>2063</td>\n",
       "      <td>True</td>\n",
       "      <td>True</td>\n",
       "    </tr>\n",
       "    <tr>\n",
       "      <th>6536</th>\n",
       "      <td>725080</td>\n",
       "      <td>gate_40</td>\n",
       "      <td>2015</td>\n",
       "      <td>True</td>\n",
       "      <td>True</td>\n",
       "    </tr>\n",
       "    <tr>\n",
       "      <th>655</th>\n",
       "      <td>69927</td>\n",
       "      <td>gate_30</td>\n",
       "      <td>1906</td>\n",
       "      <td>True</td>\n",
       "      <td>True</td>\n",
       "    </tr>\n",
       "  </tbody>\n",
       "</table>\n",
       "</div>"
      ],
      "text/plain": [
       "        userid  version  sum_gamerounds  retention_1  retention_7\n",
       "7912    871500  gate_30            2961         True         True\n",
       "29417  3271615  gate_40            2640         True        False\n",
       "43671  4832608  gate_30            2438         True         True\n",
       "48188  5346171  gate_40            2294         True         True\n",
       "46344  5133952  gate_30            2251         True         True\n",
       "87007  9640085  gate_30            2156         True         True\n",
       "36933  4090246  gate_40            2124         True         True\n",
       "88328  9791599  gate_40            2063         True         True\n",
       "6536    725080  gate_40            2015         True         True\n",
       "655      69927  gate_30            1906         True         True"
      ]
     },
     "execution_count": 11,
     "metadata": {},
     "output_type": "execute_result"
    }
   ],
   "source": [
    "df.nlargest(10, ['sum_gamerounds'])"
   ]
  },
  {
   "cell_type": "code",
   "execution_count": 12,
   "id": "47f44121",
   "metadata": {},
   "outputs": [
    {
     "data": {
      "image/png": "[encoded data removed]",
      "text/plain": [
       "<Figure size 576x396 with 1 Axes>"
      ]
     },
     "metadata": {},
     "output_type": "display_data"
    }
   ],
   "source": [
    "plt.boxplot(df[\"sum_gamerounds\"]);"
   ]
  },
  {
   "cell_type": "markdown",
   "id": "ae72ecf1",
   "metadata": {},
   "source": [
    "Удилили вброс из данных."
   ]
  },
  {
   "cell_type": "markdown",
   "id": "afd6baa7",
   "metadata": {},
   "source": [
    "## A/B-тест\n",
    "\n",
    "Чтобы применить A/B-тестирование к данных, нам необходимо выполнить основные шаги:\n",
    "\n",
    "1. Гипотеза\n",
    "2. Контроль предположений\n",
    "3. Применение гипотезы¶"
   ]
  },
  {
   "cell_type": "markdown",
   "id": "a3a56b90",
   "metadata": {},
   "source": [
    "## Гипотезы \n",
    "\n",
    "Нам нужно сформулировать:\n",
    "- H0: нулевую гипотезу;\n",
    "- H1: альтернативную гипотезу.\n",
    "\n",
    "- H0: она утверждает, что нет никакой разницы между контрольной и экспериментальной группами, что означает:\n",
    "\n",
    "   - Показатели удержания одинаковы в обеих группах.\n",
    "   - Нет статистически значимого результата.\n",
    "\n",
    "- H1:существует разница между контрольной и экспериментальной группами, что означает:\n",
    "\n",
    "   - Показатели удержания различаются в обеих группах. \n",
    "   - Это дает статистически значимый результат\n",
    "\n",
    "Гипотеза, которую мы хотим проверить, заключается в том, является ли H1 «вероятно» верной. Итак, есть два возможных результата:\n",
    "    \n",
    " - Отклонить H0 и принять H1 при наличии достаточных доказательств в выборке в пользу атиернативной гипотезы H1.\n",
    " - Не отклонять H0 из-за недостаточности доказательств в поддержку H1."
   ]
  },
  {
   "cell_type": "code",
   "execution_count": 14,
   "id": "213e51db",
   "metadata": {},
   "outputs": [],
   "source": [
    "avr = df['sum_gamerounds'].mean()\n",
    "median = df['sum_gamerounds'].median()\n",
    "mode = df['sum_gamerounds'].mode()\n",
    "std = df['sum_gamerounds'].std()"
   ]
  },
  {
   "cell_type": "code",
   "execution_count": 15,
   "id": "74f48cbb",
   "metadata": {},
   "outputs": [
    {
     "data": {
      "text/plain": [
       "16.0"
      ]
     },
     "execution_count": 15,
     "metadata": {},
     "output_type": "execute_result"
    }
   ],
   "source": [
    "median"
   ]
  },
  {
   "cell_type": "code",
   "execution_count": 16,
   "id": "d7a3b631",
   "metadata": {},
   "outputs": [
    {
     "data": {
      "image/png": "[encoded data removed]",
      "text/plain": [
       "<Figure size 1080x576 with 1 Axes>"
      ]
     },
     "metadata": {},
     "output_type": "display_data"
    }
   ],
   "source": [
    "plt.figure(figsize = (15,8))\n",
    "sns.histplot(df.sum_gamerounds, bins='auto', color = 'lightblue')\n",
    "plt.title('Распределение количества сыгранных раундов', pad = 15)\n",
    "plt.axvline(x = avr, ymin = 0, ymax = df['sum_gamerounds'].max(), color = 'Yellow', label = 'Average')\n",
    "plt.axvline(x = median, ymin = 0, ymax = df['sum_gamerounds'].max(), color = 'black', label = 'Median')\n",
    "plt.legend(fontsize=15);\n",
    "plt.legend(fontsize=15, loc='upper right');"
   ]
  },
  {
   "cell_type": "markdown",
   "id": "2d06b948",
   "metadata": {},
   "source": [
    "Распределение скошено влево, большинство игроков сыграли меньшее количество раундов (не более 20) в сравнении с наиболее активными игроками, кто отыграл более 200 раундов."
   ]
  },
  {
   "cell_type": "markdown",
   "id": "012ee213",
   "metadata": {},
   "source": [
    "Построим гистограммный график активности пользователей на разных уровнях в двух исследуемых группах."
   ]
  },
  {
   "cell_type": "code",
   "execution_count": 20,
   "id": "a9dd83a5",
   "metadata": {},
   "outputs": [
    {
     "name": "stdout",
     "output_type": "stream",
     "text": [
      "    userid  version  sum_gamerounds  retention_1  retention_7\n",
      "0      116  gate_30               3        False        False\n",
      "1      337  gate_30              38         True        False\n",
      "6     1066  gate_30               0        False        False\n",
      "11    2101  gate_30               0        False        False\n",
      "13    2179  gate_30              39         True        False\n",
      "   userid  version  sum_gamerounds  retention_1  retention_7\n",
      "2     377  gate_40             165         True        False\n",
      "3     483  gate_40               1        False        False\n",
      "4     488  gate_40             179         True         True\n",
      "5     540  gate_40             187         True         True\n",
      "7    1444  gate_40               2        False        False\n"
     ]
    }
   ],
   "source": [
    "plt.style.use('ggplot')\n",
    "\n",
    "g30 = df[df.version == 'gate_30']\n",
    "print(Group_A.head())\n",
    "\n",
    "g40 = df[df.version == 'gate_40']\n",
    "print(Group_B.head())\n",
    "\n",
    "bins = [0, 1, 10, 20, 30, 40, 50, 60, 70, 80, 90, 100, 200, 500]\n",
    "plot_g30 = pd.DataFrame(g30.groupby(pd.cut(Group_A['sum_gamerounds'],\n",
    "                                              bins=bins)).count())\n",
    "plot_g40 = pd.DataFrame(g40.groupby(pd.cut(Group_B['sum_gamerounds'],\n",
    "                                              bins=bins)).count())"
   ]
  },
  {
   "cell_type": "code",
   "execution_count": 22,
   "id": "c33e00dc",
   "metadata": {},
   "outputs": [
    {
     "data": {
      "image/png": "[encoded data removed]",
      "text/plain": [
       "<Figure size 576x396 with 1 Axes>"
      ]
     },
     "metadata": {},
     "output_type": "display_data"
    }
   ],
   "source": [
    "ax = plot_g30.plot(kind = 'bar', y='userid', color = 'blue', alpha = 1,\n",
    "                  title = 'Активность пользователей на разных уровнях')\n",
    "plot_g40.plot(kind = 'bar', y = 'userid', ax = ax, color = 'red', alpha = 0.7)\n",
    "ax.set_xlabel('Общее количество раундов на разных уровнях')\n",
    "ax.set_ylabel('Количество игроков')\n",
    "plt.legend(['Gate 30', 'Gate 40'])\n",
    "plt.tight_layout()\n",
    "plt.grid(True)"
   ]
  },
  {
   "cell_type": "markdown",
   "id": "88815b63",
   "metadata": {},
   "source": [
    "Гафик показывает, что между двумя группами нет большой разницы.\n",
    "Небольшие отличия есть в пределах 30 - 40 сыгранных раундов и 1 - 10 сыгранных руандов."
   ]
  },
  {
   "cell_type": "markdown",
   "id": "f59b79ba",
   "metadata": {},
   "source": [
    "Воспользуемся Bootstrapp для более детального иследования:"
   ]
  },
  {
   "cell_type": "code",
   "execution_count": 24,
   "id": "4e5d3e68",
   "metadata": {},
   "outputs": [
    {
     "name": "stdout",
     "output_type": "stream",
     "text": [
      "version       gate_30   gate_40\n",
      "retention_1  0.448624  0.439695\n",
      "retention_1  0.448876  0.442172\n",
      "retention_1  0.447204  0.444934\n",
      "retention_1  0.448946  0.447017\n",
      "retention_1  0.454911  0.440447\n",
      "...               ...       ...\n",
      "retention_1  0.449752  0.442138\n",
      "retention_1  0.449565  0.445620\n",
      "retention_1  0.449821  0.442682\n",
      "retention_1  0.445368  0.443148\n",
      "retention_1  0.448692  0.444256\n",
      "\n",
      "[500 rows x 2 columns]\n"
     ]
    }
   ],
   "source": [
    "boot_1d = []\n",
    "for i in range(500):\n",
    "  boot_mean = df.retention_1.sample(frac=1, replace=True).groupby(df.version).mean()\n",
    "  boot_1d.append(boot_mean)\n",
    "\n",
    "boot_1d = pd.DataFrame(boot_1d)\n",
    "print(boot_1d)"
   ]
  },
  {
   "cell_type": "code",
   "execution_count": 25,
   "id": "c470e061",
   "metadata": {},
   "outputs": [
    {
     "data": {
      "text/plain": [
       "Text(0.5, 0, 'The average of 1-day retention')"
      ]
     },
     "execution_count": 25,
     "metadata": {},
     "output_type": "execute_result"
    },
    {
     "data": {
      "image/png": "[encoded data removed]",
      "text/plain": [
       "<Figure size 576x396 with 1 Axes>"
      ]
     },
     "metadata": {},
     "output_type": "display_data"
    }
   ],
   "source": [
    "ax = boot_1d.plot.kde()\n",
    "ax.set_title('The average of 1-day retention for each AB group')\n",
    "ax.set_xlabel('The average of 1-day retention')"
   ]
  },
  {
   "cell_type": "code",
   "execution_count": 26,
   "id": "4f51b8bd",
   "metadata": {},
   "outputs": [
    {
     "name": "stdout",
     "output_type": "stream",
     "text": [
      "version       gate_30   gate_40\n",
      "retention_7  0.190363  0.182252\n",
      "retention_7  0.192599  0.184843\n",
      "retention_7  0.189463  0.183673\n",
      "retention_7  0.190547  0.183037\n",
      "retention_7  0.192293  0.183494\n",
      "...               ...       ...\n",
      "retention_7  0.190908  0.181613\n",
      "retention_7  0.194750  0.179892\n",
      "retention_7  0.189395  0.178291\n",
      "retention_7  0.193526  0.180315\n",
      "retention_7  0.186327  0.182189\n",
      "\n",
      "[500 rows x 2 columns]\n"
     ]
    }
   ],
   "source": [
    "boot_2d = []\n",
    "for i in range(500):\n",
    "  boot_mean = df.retention_7.sample(frac=1, replace=True).groupby(df.version).mean()\n",
    "  boot_2d.append(boot_mean)\n",
    "\n",
    "boot_2d = pd.DataFrame(boot_2d)\n",
    "print(boot_2d)"
   ]
  },
  {
   "cell_type": "code",
   "execution_count": 27,
   "id": "f24345f1",
   "metadata": {},
   "outputs": [
    {
     "data": {
      "text/plain": [
       "Text(0.5, 0, 'The average of 7-day retention')"
      ]
     },
     "execution_count": 27,
     "metadata": {},
     "output_type": "execute_result"
    },
    {
     "data": {
      "image/png": "[encoded data removed]",
      "text/plain": [
       "<Figure size 576x396 with 1 Axes>"
      ]
     },
     "metadata": {},
     "output_type": "display_data"
    }
   ],
   "source": [
    "ax = boot_2d.plot.kde()\n",
    "ax.set_title('The average of 7-day retention for each AB group')\n",
    "ax.set_xlabel('The average of 7-day retention')"
   ]
  },
  {
   "cell_type": "markdown",
   "id": "b71aa6ca",
   "metadata": {},
   "source": [
    "Просто взглянув на графики, мы видим, что, похоже, есть некоторые доказательства разницы в удержании между группами на 1 и 7 день, хотя и небольшие."
   ]
  },
  {
   "cell_type": "markdown",
   "id": "e8ab9988",
   "metadata": {},
   "source": [
    "Расчет разницы в коэффициенте удержания между двумя группами A/B\n",
    "Вычисление вероятности того, что 1-дневное и 7-дневное удержание выше, когда ворота находятся на уровне 30.\n",
    "Оценка результатов и выдача рекомендаций"
   ]
  },
  {
   "cell_type": "code",
   "execution_count": 28,
   "id": "718b7364",
   "metadata": {},
   "outputs": [
    {
     "data": {
      "image/png": "[encoded data removed]",
      "text/plain": [
       "<Figure size 432x360 with 1 Axes>"
      ]
     },
     "metadata": {},
     "output_type": "display_data"
    }
   ],
   "source": [
    "# Добавление столбца с процентной разницей между двумя группами A/B\n",
    "boot_1d['diff'] = ((boot_1d['gate_30'] - boot_1d['gate_40']) / boot_1d['gate_40'] * 100)\n",
    "boot_2d['diff'] = ((boot_2d['gate_30'] - boot_2d['gate_40']) / boot_2d['gate_40'] * 100)\n",
    "\n",
    "# Построение графика\n",
    "fig, (ax1) = plt.subplots(1, 1,figsize=(6,5))\n",
    "\n",
    "boot_1d['diff'].plot.kde(ax=ax1, c=\"#ff99ff\", label = \"1 day retention\")\n",
    "boot_2d['diff'].plot.kde(ax=ax1, c= \"#00bfff\", label = \"7 days retention\")\n",
    "ax1.set_xlabel(\"% difference\",size=12)\n",
    "ax1.set_ylabel(\"% density\",size=12)\n",
    "ax1.set_title(\"Difference in retention \\n between the two A/B groups\", fontweight=\"bold\", size=14)\n",
    "plt.legend()\n",
    "plt.show()"
   ]
  },
  {
   "cell_type": "code",
   "execution_count": 29,
   "id": "de870772",
   "metadata": {},
   "outputs": [
    {
     "name": "stdout",
     "output_type": "stream",
     "text": [
      "Вероятность того, что 1-дневное удержание выше, когда ворота находятся на уровне 30: 96.0%       \n",
      "Вероятность того, что 7-дневное удержание выше, когда ворота находятся на уровне 30: 100.0% \n"
     ]
    }
   ],
   "source": [
    "# Вычисление вероятности того, что 1-дневное удержание будет больше, если ворота gate 30\n",
    "prob_1 = (boot_1d['diff']>0).sum()/len(boot_1d['diff'])\n",
    "\n",
    "# Вычисление вероятности того, что 7-дневное удержание будет больше, если ворота gate 30\n",
    "prob_7 = (boot_2d['diff']>0).sum()/len(boot_2d['diff'])\n",
    "\n",
    "\n",
    "print(f\"Вероятность того, что 1-дневное удержание выше, когда ворота находятся на уровне 30: {round(prob_1,2)*100}% \\\n",
    "      \\nВероятность того, что 7-дневное удержание выше, когда ворота находятся на уровне 30: {(prob_7)*100}% \")"
   ]
  },
  {
   "cell_type": "markdown",
   "id": "7087fb49",
   "metadata": {},
   "source": [
    "## Вывод\n",
    "\n",
    "Результат говорит нам о том, что существуют доказательства с вероятностью 96% и 100% того, что удержание в первый и седьмой день выше, когда ворота находятся на уровне 30, чем когда он находится на уровне 40.\n",
    "\n",
    "Вывод таков: если мы хотим поддерживать высокий уровень удержания — как 1-дневный, так и 7-дневный — нам не следует перемещать порог с уровня 30 на уровень 40. Конечно, есть и другие показатели, на которые мы могли бы обратить внимание, например количество сыгранных игровых раундов или количество внутриигровых покупок, совершенных двумя AB-группами. Но удержание — один из наиболее важных показателей."
   ]
  },
  {
   "cell_type": "code",
   "execution_count": null,
   "id": "50f01b26",
   "metadata": {},
   "outputs": [],
   "source": []
  }
 ],
 "metadata": {
  "kernelspec": {
   "display_name": "Python 3 (ipykernel)",
   "language": "python",
   "name": "python3"
  },
  "language_info": {
   "codemirror_mode": {
    "name": "ipython",
    "version": 3
   },
   "file_extension": ".py",
   "mimetype": "text/x-python",
   "name": "python",
   "nbconvert_exporter": "python",
   "pygments_lexer": "ipython3",
   "version": "3.9.12"
  }
 },
 "nbformat": 4,
 "nbformat_minor": 5
}
